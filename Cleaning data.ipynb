{
 "cells": [
  {
   "cell_type": "markdown",
   "id": "29b606fd",
   "metadata": {},
   "source": [
    "## Clean our data"
   ]
  },
  {
   "cell_type": "code",
   "execution_count": 15,
   "id": "d97ecd28",
   "metadata": {},
   "outputs": [],
   "source": [
    "from bs4 import BeautifulSoup as bs\n",
    "import requests\n",
    "\n"
   ]
  },
  {
   "cell_type": "code",
   "execution_count": 16,
   "id": "c4d7be4e",
   "metadata": {},
   "outputs": [],
   "source": [
    "import json\n",
    "\n",
    "def load_data(title):\n",
    "    with open(title, encoding=\"utf-8\") as f:\n",
    "        return json.load(f)"
   ]
  },
  {
   "cell_type": "code",
   "execution_count": 17,
   "id": "05b4ebb5",
   "metadata": {},
   "outputs": [],
   "source": [
    "movie_info_list=load_data(\"academy_awards.json\")"
   ]
  },
  {
   "cell_type": "markdown",
   "id": "ae6fbb5e",
   "metadata": {},
   "source": [
    "#### tasks\n",
    "- Convert running time into an integer\n",
    "- Convert dates into datetime object\n",
    "- Split up the long strings\n",
    "- Convert money to number\n"
   ]
  },
  {
   "cell_type": "code",
   "execution_count": 18,
   "id": "7f71b7f5",
   "metadata": {},
   "outputs": [
    {
     "data": {
      "text/plain": [
       "{'title': 'Rebecca',\n",
       " 'Directed by': 'Alfred Hitchcock',\n",
       " 'Screenplay by': ['Robert E. Sherwood',\n",
       "  'Joan Harrison',\n",
       "  'Adaptation:',\n",
       "  'Philip MacDonald',\n",
       "  'Michael Hogan'],\n",
       " 'Based on': ['Rebecca', 'by', 'Daphne du Maurier'],\n",
       " 'Produced by': 'David O. Selznick',\n",
       " 'Starring': ['Laurence Olivier', 'Joan Fontaine'],\n",
       " 'Cinematography': 'George Barnes',\n",
       " 'Edited by': 'W. Donn Hayes',\n",
       " 'Music by': 'Franz Waxman',\n",
       " 'Production company': 'Selznick International Pictures',\n",
       " 'Distributed by': 'United Artists',\n",
       " 'Release date': ['March 21, 1940 ( Miami, Florida )', 'April 12, 1940 (US)'],\n",
       " 'Running time': '130 minutes',\n",
       " 'Country': 'United States',\n",
       " 'Language': 'English',\n",
       " 'Budget': '$1.29 million',\n",
       " 'Box office': '$6 million'}"
      ]
     },
     "execution_count": 18,
     "metadata": {},
     "output_type": "execute_result"
    }
   ],
   "source": [
    "movie_info_list[100]"
   ]
  },
  {
   "cell_type": "markdown",
   "id": "16063f36",
   "metadata": {},
   "source": [
    "#### Converting running time into an integer"
   ]
  },
  {
   "cell_type": "code",
   "execution_count": 19,
   "id": "9325b932",
   "metadata": {},
   "outputs": [],
   "source": [
    "def minutes_to_integer(running_time):\n",
    "    if running_time == \"N/A\":\n",
    "        return None\n",
    "    \n",
    "    if isinstance(running_time, list):\n",
    "        if running_time[0].split(\" \")[0]==\"Original\":\n",
    "            return running_time[1].split(\" \")[0]\n",
    "        else:\n",
    "            return running_time[0].split(\" \")[0]\n",
    "    else: # is a string\n",
    "        try:\n",
    "            return int(running_time.split(\" \")[0])\n",
    "        except:\n",
    "            return None \n",
    "\n",
    "for movie in movie_info_list:\n",
    "    movie['Running time (int)'] = minutes_to_integer(movie.get('Running time', \"N/A\"))\n",
    "#Other more difficult edge cases I will fix with pandas"
   ]
  },
  {
   "cell_type": "code",
   "execution_count": 20,
   "id": "b4305abd",
   "metadata": {},
   "outputs": [
    {
     "name": "stdout",
     "output_type": "stream",
     "text": [
      "['111', 110, 84, 100, 90, '130', 95, 113, '152', 87, '90', 84, 107, 124, 102, 101, 85, 122, 112, 108, 90, 87, 89, 80, 80, 89, 112, 89, 88, 93, 96, 115, 97, 66, 98, 97, 105, 110, 100, 97, 107, 87, 88, 111, 83, 91, 115, 80, 132, 99, 101, 119, 129, 91, 109, '133', 103, 103, 90, 101, '177', 141, 101, 98, 116, 125, 115, 87, 123, 84, 116, 91, 115, 93, 138, '96', 132, 85, 92, 111, 126, 102, 106, 93, 110, 90, 114, 103, 96, 118, '221', 104, 114, 87, None, 110, 107, 96, 101, 103, 130, 141, 120, 129, 124, 108, 95, 105, 90, 112, 118, 99, 119, 94, 116, 115, 101, 108, 134, 99, 133, 123, 127, '88', 87, 128, 125, 117, 88, 126, 102, 170, 112, 118, 115, 124, 104, 75, 155, 114, 126, 107, 114, 172, 154, 101, 143, 126, 111, 111, 172, 136, 131, 145, 128, 118, 109, 86, 118, 96, 155, 102, 133, 108, 126, 110, 118, 115, 103, 132, 138, 102, 92, 103, 110, 113, 119, 122, 171, 125, 152, 85, 107, 119, 129, 118, 121, 135, 118, 118, 108, 125, 104, 102, 102, 90, 102, '120,', 115, 117, 182, 137, 197, '133', '220', 161, 96, 157, 147, 116, 115, 143, 108, 96, 100, 212, 160, 170, 152, 115, 125, 167, 146, 103, 2, 152, 134, 158, 134, 179, 227, 178, 151, '178', 129, 128, 174, 251, 164, 94, 170, 148, 94, 139, 142, 174, 127, '193', 150, 116, 120, 114, 126, '182', 132, 109, 111, 152, 106, 108, 153, '2002', 134, 101, 138, 113, 145, 110, 148, 127, 172, 137, 98, 101, 116, 104, 136, 179, 118, 188, 177, 124, 109, 191, 105, 129, 112, 91, 122, 106, 200, 131, 113, 111, 165, 133, 187, 125, 124, 160, 119, 138, 147, 121, 114, 93, 110, 118, 121, 119, 184, 128, 101, 121, 125, 105, 123, 147, 101, 110, 124, 124, 124, 129, 186, 124, 104, 109, 115, 195, 191, '114', 122, 116, 129, 132, 105, 118, 192, 92, 161, 141, 163, 111, 101, 161, 153, 121, 130, 112, 120, 114, 106, 125, 117, 163, 133, 119, 113, 102, 134, 121, 119, 128, 113, 99, 145, 128, 107, 103, 181, 121, 128, 162, 146, 118, 84, 136, '188', 132, 131, 111, 138, 142, 156, 195, 130, 133, 117, 134, 142, 117, 154, 133, 142, 178, 140, 92, 108, 136, 162, 98, 139, 142, 105, 195, 139, 91, 126, 138, 123, 123, 116, 169, 170, 122, 125, 189, 158, 107, 155, 121, 120, 130, 147, 135, 137, 131, 178, 128, 113, 167, 114, 179, 150, 201, 102, 138, 138, 141, 132, 170, 101, 152, 127, 112, 134, 114, 93, 163, 151, 143, 140, 102, 103, 122, 123, 96, 120, 158, 120, 166, 122, 128, 124, 131, 162, 126, 112, 100, 153, 110, 106, 96, 109, 119, 94, 108, 116, 148, 107, 120, 103, 110, 100, 100, 115, 129, 146, 126, 94, 133, '139', 146, 120, 127, 93, 165, 127, 150, 158, 122, 2, 134, 138, 134, 117, 91, 126, 115, 98, 180, 119, 132, 165, 100, 114, 128, 123, 106, 129, 130, 141, 112, 120, 141, 156, 118, 111, 116, 139, 139, 102, 127, 128, 118, 137, 123, 132, 125, 106, 104, 94, 130, 116, 115, 130, 134, '128', 134, 119, 135, 136, 132, 132, 152, 209, 108, 122, 135, 137, 119, 161, 108, 97, 126, 131, 115, 113, 120, 130]\n"
     ]
    }
   ],
   "source": [
    "print([movie.get('Running time (int)', 'N/A') for movie in movie_info_list])\n"
   ]
  },
  {
   "cell_type": "code",
   "execution_count": 21,
   "id": "3431d5a7",
   "metadata": {},
   "outputs": [
    {
     "name": "stdout",
     "output_type": "stream",
     "text": [
      "['US$ 2 million ($28,850,173 adjusted for inflation)', '$1.3 million', 'N/A', '$379,000', 'N/A', '$426,000', 'N/A', '$1 million', '$1.2 million', '$414,000', '$318,000', 'N/A', 'N/A', '$1,433,000', 'N/A', 'N/A', 'N/A', '$1.3 million', '$750,000', 'N/A', 'Under $100,000', '$356,000', '$310,000', 'N/A', 'N/A', 'N/A', '$1,180,280', '$439,000', '$900,000', '$228,000', '$300,000', '$424,000', '£65,000', '$200,000', '$851,000', '$600,000', '$325,000', '$820,000', '$842,908', '$479,000', '$520,000', '$263,000', 'N/A', 'N/A', '$733,150', '$226,408', '$1,022,000', 'N/A', '$1,950,000', '$342,000', '$1,062,000', '$1,242,000 or $995,000', '$1,073,000', '$243,000', 'N/A', '$981,000', 'N/A', '$782,000', 'N/A', '$ 609,000', '$2.183 million', '$1,192,000', 'N/A', '$603,000', '$845,710', '$2 million', '$1.3 million', 'N/A', '$1,232,000', '$326,000 or $319,107', 'N/A', '$600,000 ($10,800,000 in 2020 dollars)', '$1,645,000', '$900,000 (est)', '$2,816,000', 'N/A', '$2 million', '$762,000 or $733,000', '$952,000', '$1.2 million', 'US$1,644,736 (est.)', '$2,033,000', '$1,200,000–$2,275,000', '$772,000', '$1,012,000', 'N/A', 'N/A', '$1.25 million', '£87,000', '$1,701,000', '$3.85 million', '$1 million (est)', '$1,051,000', '$860,000', '$1.5 million', '$1.4 million ( est. )', 'N/A', '$531,374', '$2.8 million', 'N/A', '$1.29 million', 'N/A', '$1,484,167', '$800,000', '$2 million (US$37,210,526 in 2020 dollars )', '$738,000', 'N/A', '$682,495', 'N/A', '$914,000', '$800,000', '$1,112,000', '$839,727', 'N/A', 'N/A', 'N/A', '$375,000', 'N/A', '$1.7 million', '$1,103,000', '$1.34 million', '£132,000', '$1,081,698', '$1.1 million', 'N/A', 'N/A', '$1,210,000', '$1 million', '$826,000', '$1.5 million', '$878,000 –$1 million', 'N/A', '$1,115,400', '$1.0 million', '£240,000', '$1,938,000', '$878,000', '$565,000', '$1.6 million', '$1,099,000', 'N/A', '$980,000', '$2 million', '$3,257,000', '$2.995 million', '$1.25 million', '$2.6 million', '$1.3 million', '$1,453,000', 'US$1.5 million', '$2.1 million or $3 million', '£475,708 (or $2 million)', '$3.18 million', '$1.2 million', '$3,883,000', '$1,985,000', 'N/A', '$678,000', '£375,000', '$630,000', '£527,530', '$1,631,000', '> £ 500,000', '$3.8 million', '$2.5 million', '$2 million', '$1,631,000', '$2.6 million', 'N/A', 'N/A', '$1.4 million', 'N/A', '$1,215,000', '$2.3 million', '$1.75 million', '$2.7 million', 'N/A', '$2.3 million', '$7.6 million', '$1.8 million', '$4 million', '$730,000', '$3,842,000', '$1.1 million', '$1.75 million', '$1.7–2.5 million', '$2,070,000', '$4.1 million or $4.6 million', '$1.5 million', '$1.5 million', '$910,000', '$2 million', 'N/A', '$2,540,000', '$1.7 million', '$350,000', '$1.78 million', '$2.3 million', '$3 million', 'N/A', '$6 million', '$3 million', '$5.4 million', '$4.55 million', '$13 million', '$2.8 million', '$337,000', '$1.8 —$2.2 million', 'N/A', '$2 million', '$3.3 million', 'N/A', '$2.3 million', '$778,000', 'N/A', '$15.2 million', '$2 million', '$3.8 million', '$3.5 million', '£280,000', '$3 million', '$12 million', '$3 million', '$805,000', 'N/A', '$6.75 million', 'N/A', '$6 million', '$2,125,000', '$3 million', '$15 million', '$7.75 million', 'N/A', '$19 million', '$2 million', '$1 million (£467,000)', 'N/A', '$31.1 million', '$15 million', '$240,000 or $247,000', '$17 million', '$3 million', '$1.8 million', '$4.4–6 million', '$783,000', '$8.2 million', '£300,000 or $1.1 million', '$11 million', 'N/A', '$1 million', '$2 million', '$800,000', '$3.9 million', '$12.1 million', '$7.5 million', '$2 million', '$2.5 million', '$17 million', '$3 million', '$4 million', '$10 million', '$14.1 million', '$4 million', '$780,000', '$850,000', '$3.2 million', 'N/A', '$6 million', '$25 million', 'N/A', '$12.6 million', '$10.2 million', '$1.6 million', '$2.2 million', '$3.025 million', '$1.8 million', '$1.3 million', '$9 million', '$1.3 million', '~$9 million', '$6–7.2 million', '$4.6 million', '$2 million', '$1.6 million', '$1.9 million', '$5.5 million', '$777,000', '$450,000', '$12 million', 'N/A', '$13 million', '$6 million', '$1.6 million', '$2,700,000', '$14 million', '$3–4.4 million', '$12 million', '$3.5–US$3.8 million', '$9 million', '$2.2 million', ['$960,000', '(equivalent to $4.37\\xa0million in 2020)'], '$8.5 million', '$10 million or $7 million', '$3.8 million', '$1.9 million', '$4 million', 'N/A', '$7.84 million', '$11 million', 'N/A', '$15 million', '$3 million', '$6 million', '$2.3 million', '$2,515,000', '$8 million', '$12 million', '$31 million', '$2.3 million', '$4.5 million', '$6.2 million', ['$15 million', '(equivalent to $39.9\\xa0million in 2019)'], '$5 million', '$18 million', '$12 million (est.)', '$5.5 million (£3 million)', '$7.2 million', '$15 million', '$20 million', '$32 million', '$22 million', '$10.5 million', '$9.5 million', '$21 million', '$16 million', '$8 million', '$8 million', '£1,456,000', '$27 million', '$4.5 million', '$18 million', '$14.4 million', 'or', '$9.5 million', '$6 million', '$31 million', '$15 million', '$1–1.5 million', '$16 million', '$12 million', '$6 million', '$10.5 million', '$6.4 million', '£ 16.5 million', ['£2.3 million', '($3 million)'], '$23.8 million', '$15 million', '$14 million', '$9.3 million or £5.56 million', '$15 million', '$25 million', 'N/A', '$14 million', '$15 million', '$28 million', '$7.5 million', '$17.8 million', '$16.4 million', '$15 million', '£600,000', '$22 million', '$29 million', '$22 million', '$54 million', '$25 million', '$19 million', '$25 million', '$30 million', '$40 million', '$30 million', '$14.4 million', '£ 2.3 million', '$33–40 million', '$8 million', '$31 million', '$22 million', '$44 million', '$13 million', 'US$7 million', '$15 million', '$55 million', ['£3\\xa0million', '($4.4 million', ')'], '$8–8.5 million', '$31 million', '$25 million', '$65–70 million', '$52 million', '$30 million', '$3 million', '$16 million', '$27–31 million', '$7 million', '$50 million', '$4.5 million', '$6 million', '$200 million', '$50 million', '$3.5 million', '$10 million', '$35 million', '$25 million', '$30 million', '$20 million', '$70 million', '$52 million', '$15 million', '$24 million', '$60 million', '$68–90 million', '$40 million', '$103 million', '$25 million', 'US$17 million', '$52 million', '$48 million', '$58 million', '$19.8 million', '$1.7 million', '$93 million', '$50 million', '$45 million', '$100 million', '$25 million', '$94 million', '$35 million', '$94 million', '$4 million', '$150 million', '$25-30 million', '$87 million', '$30 million', '$110 million', '$25 million', '$40 million', '$16 million', '$6.5 million', '$14 million', '$7 million', '$7 million', '$70 million', '$90 million', '$25 million', '$19 million', '$8 million', '$15 million', '$25 million', '£23.2 million ($30 million)', '$6.5 –$7.5 million', '$21.5 million', '$25 million', '$15 million', '$150–167 million', '$25 million', '$20 million', '$32 million', '$15 million', ['$237 million', '$9 million+ (re-release)'], '$29 million', '$30 million', '$7.5 million', '$70 million', '$10 million', '$7 million', '$175 million', '$25 million', '$15 million', '$18 million', '$13 million', '$25 million', '$160 million', '$4 million', '$40 million', '$200 million', '$35-38 million', '$2 million', '$15 million', '$20 million', '$40 million', '$25 million', '$150–170 million', '$17 million', '$50 million', '$32 million', '$66–70 million', '$44.5 million', '$ 8.9 million', '$1.8 million', '$100 million', '$120 million', '$65 million', '$61 million', '$21 million', '$40-52.5 million', '$20–22 million', '$40 million', '$55 million', '$5 million', '$80–130 million', '$23 million', '$13.5 million', '$12 million', '$100 million', '$18 million', '$59 million', '$4 million', 'US$25 million', '$14 million', '$20 million', '$15 million', '$3.3 million', '$20 million', '$50 million', '$40 million', '$11 million', '$154.6–185.1 million', '$108 million', '$135 million', '$13 million', '$1.5–4 million', '$47 million', '$24 million', '$40 million', '$12 million', '$25 million', '$30 million', '$12 million', '$9 million', '$19.5–20 million', '$3.5 million', '$30 million', '$100–150 million', '$4.5 million', '$10 million', '$35 million', '$50 million', '$12–15 million', '$23 million', '$200 million', '$15 million', '$50–55 million', '$15 million', '$15 million', '$36 million', '$60 million', ['₩17.0 billion'], '$97.6 million', '$159–250 million', '$14 million', '$70 million', '$40 million', '$18 million', '$95 million', '$90–96 million', '$5 million', '$6 million', '$26 million', '$25 million', '$2 million', '$5–10 million', '$5.4 million', '$35 million']\n"
     ]
    }
   ],
   "source": [
    "#Convert budget and box office money into integer\n",
    "print([movie.get('Budget', 'N/A') for movie in movie_info_list])"
   ]
  },
  {
   "cell_type": "code",
   "execution_count": 22,
   "id": "99406239",
   "metadata": {},
   "outputs": [
    {
     "name": "stdout",
     "output_type": "stream",
     "text": [
      "58\n"
     ]
    }
   ],
   "source": [
    "#len([movie.get('Budget', 'N/A') for movie in movie_info_list if movie.get('Budget', 'N/A')=='N/A'])\n",
    "\n",
    "print([movie.get('Budget', 'N/A') for movie in movie_info_list].count('N/A'))\n",
    "\n"
   ]
  },
  {
   "cell_type": "code",
   "execution_count": 23,
   "id": "fde8528b",
   "metadata": {},
   "outputs": [
    {
     "name": "stdout",
     "output_type": "stream",
     "text": [
      "29\n"
     ]
    }
   ],
   "source": [
    "print([movie.get('Box office', 'N/A') for movie in movie_info_list].count('N/A'))"
   ]
  },
  {
   "cell_type": "markdown",
   "id": "ad565fd2",
   "metadata": {},
   "source": [
    "#### Budget and Box office money conversion "
   ]
  },
  {
   "cell_type": "code",
   "execution_count": 24,
   "id": "a5beef45",
   "metadata": {},
   "outputs": [],
   "source": [
    "import re\n",
    "\n",
    "amounts = r\"thousand|million|billion\"\n",
    "number = r\"\\d+(,\\d{3})*\\.*\\d*\"\n",
    "\n",
    "word_re = rf\"\\${number}(-|\\sto\\s|–)?({number})?\\s({amounts})\"\n",
    "value_re = rf\"\\${number}\"\n",
    "\n",
    "def word_to_value(word):\n",
    "    value_dict = {\"thousand\": 1000, \"million\": 1000000, \"billion\": 1000000000}\n",
    "    return value_dict[word]\n",
    "\n",
    "def parse_word_syntax(string):\n",
    "    value_string = re.search(number, string).group()\n",
    "    value = float(value_string.replace(\",\", \"\"))\n",
    "    word = re.search(amounts, string, flags=re.I).group().lower()\n",
    "    word_value = word_to_value(word)\n",
    "    return value*word_value\n",
    "\n",
    "def parse_value_syntax(string):\n",
    "    value_string = re.search(number, string).group()\n",
    "    value = float(value_string.replace(\",\", \"\"))\n",
    "    return value\n",
    "\n",
    "'''\n",
    "money_conversion(\"$12.2 million\") --> 12200000 ## Word syntax\n",
    "money_conversion(\"$790,000\") --> 790000        ## Value syntax\n",
    "'''\n",
    "def money_conversion(money):\n",
    "    if money == \"N/A\":\n",
    "        return None\n",
    "\n",
    "    if isinstance(money, list):\n",
    "        money = money[0]\n",
    "        \n",
    "    word_syntax = re.search(word_re, money, flags=re.I)\n",
    "    value_syntax = re.search(value_re, money)\n",
    "\n",
    "    if word_syntax:\n",
    "        return parse_word_syntax(word_syntax.group())\n",
    "\n",
    "    elif value_syntax:\n",
    "        return parse_value_syntax(value_syntax.group())\n",
    "\n",
    "    else:\n",
    "        return None"
   ]
  },
  {
   "cell_type": "code",
   "execution_count": 25,
   "id": "3e26e3a9",
   "metadata": {},
   "outputs": [],
   "source": [
    "for movie in movie_info_list:\n",
    "    movie['Budget (float)'] = money_conversion(movie.get('Budget', \"N/A\"))\n",
    "    movie['Box office (float)'] = money_conversion(movie.get('Box office', \"N/A\"))"
   ]
  },
  {
   "cell_type": "code",
   "execution_count": 26,
   "id": "c1b40252",
   "metadata": {},
   "outputs": [
    {
     "data": {
      "text/plain": [
       "40000000.0"
      ]
     },
     "execution_count": 26,
     "metadata": {},
     "output_type": "execute_result"
    }
   ],
   "source": [
    "money_conversion(str(movie_info_list[-40][\"Budget\"]))"
   ]
  },
  {
   "cell_type": "code",
   "execution_count": null,
   "id": "5cbdc737",
   "metadata": {},
   "outputs": [],
   "source": []
  },
  {
   "cell_type": "markdown",
   "id": "aa0f056a",
   "metadata": {},
   "source": [
    "### Convert Dates into datetimes"
   ]
  },
  {
   "cell_type": "code",
   "execution_count": 27,
   "id": "b6551a36",
   "metadata": {},
   "outputs": [
    {
     "name": "stdout",
     "output_type": "stream",
     "text": [
      "[['August 12, 1927 (New York City, premiere)', 'January 15, 1928 (Los Angeles)', 'January 5, 1929 (United States)'], ['May 6, 1927 (Los Angeles)', 'May 25, 1927 (New York City)', 'September 10, 1927 (New York City (re-release))'], ['November 1, 1928'], [\"February 1, 1929 ( Grauman's Chinese Theatre )\", 'February 8, 1929 ( NYC )', 'June 12, 1929 ( US )'], ['April 20, 1929'], ['June 20, 1929'], ['Premiere:', 'December\\xa025,\\xa01928', 'General release:', 'January\\xa020,\\xa01929'], 'August 17, 1928', ['April 21, 1930 (US )'], 'June 24, 1930', ['November 1, 1929'], ['April 30, 1930 (United States)'], ['November 19, 1929', '(New York City)', 'January 18, 1930', '(US)'], ['January 26, 1931 (Premiere- New York City )', 'February 9, 1931 ( US )'], ['February 20, 1931 (New York City)', 'March 31, 1931 (U.S.)'], ['April 4, 1931'], ['April 5, 1931'], ['May 23, 1931 (United States)'], ['April 12, 1932 ( US )'], 'December 7, 1931', 'September 19, 1931 (US)', ['November 9, 1931'], ['September 26, 1931'], ['March 22, 1932 ( US )'], ['February 12, 1932'], ['August 1, 1931'], ['April 15, 1933'], ['March 9, 1933 ( Strand Theatre )', 'March 11, 1933 (US)'], ['December 8, 1932 (United States)'], ['November 10, 1932'], ['September 13, 1933'], ['November 16, 1933 (United States)'], '17 August 1933', ['January 27, 1933'], ['September 24, 1932'], ['February 10, 1933'], ['February 22, 1934'], 'September 14, 1934', 'August 16, 1934', ['November 28, 1934'], ['October 12, 1934'], ['July 21, 1934'], ['April 7, 1934'], ['November 26, 1934 (US)'], ['September 5, 1934'], ['May 25, 1934 (US)'], ['April 10, 1934'], ['November 16, 1934 (U.S.)'], ['November 8, 1935'], ['August 15, 1935'], ['August 25, 1935 ( New York City )', 'September 18, 1935 ( Los Angeles )'], ['December 28, 1935 (USA)'], ['January 18, 1935 (US)'], ['May 9, 1935 (USA)'], ['January 11, 1935 (United States)'], ['October 30, 1935 (USA)'], ['April 20, 1935'], ['March 8, 1935 (Premiere)', 'March 29, 1935'], 'February 19, 1935', ['August 29, 1935 (Premiere – New York City )', 'September 6, 1935'], ['March 22, 1936 (Los Angeles, premiere)', 'April 8, 1936 (US)'], ['July 29, 1936', 'August 29, 1936 (US)'], ['September 23, 1936'], ['October 9, 1936'], ['April 12, 1936'], ['August 20, 1936'], ['June 26, 1936'], ['February 22, 1936'], ['December 27, 1935'], ['December 20, 1936 (US)'], ['August 11, 1937'], ['October 21, 1937'], ['May 11, 1937'], ['August 27, 1937 (U.S.)'], ['January 29, 1937 (United States)'], ['January 6, 1938'], ['September 1, 1937'], ['September 5, 1937 (USA)'], ['October 8, 1937 (US)', 'December 31, 1937 (UK )'], [\"April 20, 1937 ( Grauman's Chinese Theatre )\"], ['August 23, 1938', 'September 1, 1938'], ['May 14, 1938 (US)'], ['May 24, 1938 (Los Angeles, press preview)', 'August 5, 1938 (New York, premiere)'], ['September 9, 1938'], ['3 November 1938'], ['August 9, 1938 (USA)'], ['8 June 1937'], ['March 10, 1938 (New York)', 'March 26, 1938'], ['6 October 1938'], ['April 15, 1938', 'April 22, 1938 (US)'], ['December 15, 1939 ( Atlanta premiere)'], ['April 22, 1939 (U.S.)'], ['15 May 1939 (New York)'], ['April 7, 1939'], ['October 17, 1939 (Washington, DC, premiere)'], 'November 9, 1939', ['December 30, 1939 (USA)'], ['February 2, 1939 (Los Angeles)', 'March 3, 1939 (U.S.)'], ['August 25, 1939'], ['March 24, 1939', 'April 13, 1939 (US)'], ['March 21, 1940 ( Miami, Florida )', 'April 12, 1940 (US)'], ['July 4, 1940'], ['August 16, 1940 (U.S.)'], ['January 24, 1940 (United States)'], ['October 15, 1940 (New York City)', 'October 31, 1940 (United States)'], ['December 27, 1940 (US)'], ['November 22, 1940 (New York City)'], ['October 8, 1940'], ['May 24, 1940 (United States)'], ['December 26, 1940 (New York City)', 'January 17, 1941 (US)'], ['October 28, 1941'], ['June 26, 1941 (New York City)', 'July 25, 1941 (US)'], ['May 1, 1941 ( Palace Theatre )', 'September 5, 1941 (United States)'], ['August 7, 1941'], ['September 26, 1941'], ['August 29, 1941 (U.S.)', 'August 20, 1941 (Premiere-New York City)'], ['October 3, 1941 (New York City)', 'October 18, 1941 (United States)'], ['October 2, 1941'], ['July 2, 1941 (New York City)', 'September 27, 1941 (United States)'], ['November 14, 1941'], ['June 4, 1942 ( Radio City Music Hall )', 'July 22, 1942 (U.S.)'], ['8 October 1941 (United Kingdom; London premiere)', '24 November 1941 (United Kingdom)', '5 March 1942 (United States; New York City premiere)', '15 April 1942 (United States)'], 'April 18, 1942', ['July 10, 1942'], ['August 21, 1942'], ['July 14, 1942'], 'December 17, 1942', ['August 20, 1942 ( US )'], ['August 11, 1942 (United States)'], ['May 29, 1942 ( New York City )', 'June 6, 1942 (United States)'], ['November 26, 1942 ( Hollywood Theatre )', 'January 23, 1943 (United States)'], ['July 14, 1943 (USA)'], ['August 11, 1943'], ['March 2, 1943'], ['17 September 1942 (UK)'], ['December 15, 1943'], ['May 13, 1943'], ['May 8, 1943 (New York City)', 'May 21, 1943 (USA)'], ['December 21, 1943'], ['August 27, 1943'], ['May 3, 1944 (US)'], ['July 3, 1944 (United States)'], ['May 4, 1944'], ['July 20, 1944 (USA)'], ['August 1, 1944'], ['November 29, 1945'], ['July 19, 1945 (New York City)', 'August 1945 (United States)'], ['December 6, 1945 (New York City, New York)'], ['September 28, 1945 (New York)'], ['October 31, 1945 (New York City)'], ['November 21, 1946'], ['22 November 1944'], ['December 20, 1946'], 'December 25, 1946', ['December 18, 1946'], ['November 11, 1947 (New York City)'], ['December 9, 1947 (Premiere-New York City)', 'February 16, 1948 (U.S.)'], ['July 22, 1947 (New York City)', 'August 15, 1947 (U.S.)'], ['26 December 1946'], ['June 11, 1947'], ['4 May 1948'], ['September 14, 1948'], ['6 September 1948 (UK)', '22 October 1948 (US)'], ['November 13, 1948'], ['January 6, 1948'], ['November 8, 1949 ( NYC )', 'November 16, 1949 ( LAC )', 'January 1950 ( US )'], ['November 9, 1949 (Washington D.C., premiere)', 'December 1, 1949 ( Los Angeles )'], ['October 6, 1949', 'December 28, 1949'], ['January 20, 1949 (United States)'], ['December 21, 1949 (Los Angeles)', 'January 26, 1950 (New York City)'], ['October 13, 1950'], ['December 25, 1950'], ['May 18, 1950', '(New York)', 'June 16, 1950', '(USA)'], ['November 9, 1950 ( NYC )', 'November 24, 1950 ( US )'], ['August 10, 1950'], ['October 4, 1951 (New York)', 'January 11, 1952 (USA)'], ['December 21, 1951'], ['April 5, 1951 (Cannes Film Festival)', 'August 14, 1951 (Los Angeles)'], ['November 8, 1951'], ['September 19, 1951'], ['January 10, 1952 (New York City, premiere)', 'February 21, 1952 (Los Angeles)'], ['July 24, 1952'], ['July 31, 1952 (United States)'], ['23 December 1952 (United States)'], ['June 6, 1952 (London and Dublin)', '(London and Dublin)', 'August 21, 1952 (New York)', '(New York)'], ['August 5, 1953'], ['June 3, 1953'], ['September 16, 1953 (Premiere)', 'September 17, 1953 (New York City opening)'], ['August 27, 1953'], ['April 23, 1953'], ['July 28, 1954'], ['June 24, 1954 (New York City)'], ['December 15, 1954 (New York City)', 'December 21, 1954 (Beverly Hills, California)'], ['July 15, 1954 (Houston, Texas)', 'July 22, 1954 (New York)', 'December 20, 1954 (United States)'], ['May 20, 1954 (USA)'], ['April 11, 1955'], ['August 18, 1955'], ['July 30, 1955'], ['December 7, 1955'], 'December 12, 1955', ['October 17, 1956 (US)'], ['November 25, 1956'], ['October 10, 1956 ( New York City )', 'November 24, 1956 (United States)'], ['June 28, 1956'], ['November 8, 1956'], ['2 October 1957 (London-premiere)', '11 October 1957 (United Kingdom)', 'December 14, 1957 (United States)'], ['April 10, 1957 ( Fox Wilshire Theater )'], ['December 11, 1957 ( Camden, Maine )', 'December 12, 1957 (USA)'], ['December 5, 1957'], ['December 17, 1957 (Limited U.S. release)', 'January 30, 1958 (Premiere, London)'], ['May 15, 1958'], ['December 4, 1958 ( Radio City Music Hall )', 'December 27, 1958 (US)'], ['August 27, 1958 (US)'], ['June 29, 1958 ( Berlin )', 'September 24, 1958 (New York City, New York)', 'September 27, 1958 (United States)'], ['December 18, 1958 (New York, USA)'], ['November 18, 1959'], ['July 2, 1959 (New York)'], ['March 18, 1959'], ['July 18, 1959'], ['22 January 1959 (UK)', '30 March 1959 (US)'], ['June 15, 1960 (NY)', 'June 21, 1960 (LA)', 'July 23, 1960 (London)'], ['October 24, 1960'], ['July 7, 1960'], 'May 1960', ['8 December 1960 (US )'], ['October 18, 1961 (NY)', 'December 13, 1961 (LA)'], 'June 28, 1961', ['27 April 1961 (London)', '28 April 1961 (United Kingdom)', '22 June 1961 (United States)'], ['September 25, 1961'], ['December 14, 1961 ( Kongresshalle , Berlin )', 'December 19, 1961 (USA)'], ['10 December 1962'], ['September 25, 1962 (France, U.S.)', 'October 4, 1962 (Canada)', 'October 23, 1962 (Germany, Mexico, UK)'], ['June 19, 1962'], 'November 8, 1962', ['December 25, 1962'], ['29 September 1963 ( Venice )'], ['December 15, 1963'], ['June 12, 1963 (United States)'], ['November 1, 1962 (United Kingdom)', 'February 20, 1963 (United States)'], ['October 1, 1963'], ['October 21, 1964'], ['11 March 1964'], ['January 29, 1964'], ['August 27, 1964 (LA)', 'September 24, 1964 (NY)'], ['14 December 1964 (Greece)', '16 December 1964 (United States)'], ['March 2, 1965 (United States)'], ['3 August 1965 (New York City)', '16 September 1965 (United Kingdom)'], ['22 December 1965 (US)', '26 April 1966 (UK)', '10 December 1966 (Italy)', '28 September 1999 (US re-release)'], ['July 29, 1965'], ['December 13, 1965'], '12 December 1966 (USA) March 1967 (UK)', ['24 March 1966 (UK)', '24 August 1966 (US)'], ['May 25, 1966 ( US )'], ['December 20, 1966'], ['June 21, 1966'], ['August 2, 1967'], ['August 4, 1967 ( Montreal )', 'August 13, 1967 (United States)'], ['December 12, 1967 (London premiere)', 'December 19, 1967 (United States)'], ['December 20, 1967 (Premiere)', 'December 21, 1967 (United States)'], ['December 11, 1967 ( New York City )', 'December 12, 1967 (United States)'], ['26 September 1968'], ['September 18, 1968'], ['October 30, 1968'], ['August 26, 1968'], ['March 04, 1968 ( Royal Film Performance ) March 05, 1968 (U.K.) October 8, 1968 (U. S.) October 19, 1968 (Italy)', 'March 04, 1968 ( Royal Film Performance )', 'March 05, 1968 (U.K.)', 'October 8, 1968 (U. S.)', 'October 19, 1968 (Italy)'], ['May 25, 1969'], ['18 December 1969 (United States)', '23 February 1970 (United Kingdom)'], ['September 23, 1969 (Premiere)', 'September 24, 1969 (New York City)'], ['December 16, 1969'], ['26 February 1969 (France)', 'May 1969 ( Cannes )'], ['December 4, 1969 (Premiere)', 'February 5, 1970 (New York City)'], ['March 5, 1970 (NYC)', 'March 19, 1970 (LA)'], 'September 12, 1970', ['December 16, 1970'], ['January 25, 1970 (United States)'], ['October 7, 1971 (United States)'], ['19 December 1971 (New York City)', '13 January 1972 (United Kingdom )', '2 February 1972 (United States)'], ['November 3, 1971'], ['October 22, 1971'], ['13 December 1971'], [\"March 14, 1972 ( Loew's State Theatre )\", 'March 24, 1972 (United States)'], ['February 13, 1972'], ['July 30, 1972'], ['8 March 1971 (Sweden)'], ['September 24, 1972'], ['December 25, 1973'], ['August 2, 1973 ( Locarno )', 'August 11, 1973 (United States)'], ['21 December 1972 (United States)', '5 March 1973 (Sweden)'], ['December 26, 1973 (United States)'], ['20 June 1973'], ['December 12, 1974 (New York City)', 'December 20, 1974 (United States)'], ['June 20, 1974'], ['April 7, 1974'], ['November 10, 1974'], ['December 14, 1974'], ['November 19, 1975'], ['18 December 1975'], ['September 20, 1975 ( San Sebastián )', 'September 21, 1975 (United States)'], ['June 20, 1975'], ['June 11, 1975'], ['November 21, 1976 (New York City)', 'December 3, 1976 (United States)'], ['April 4, 1976'], ['December 5, 1976 (United States)'], ['November 27, 1976'], ['February 8, 1976'], ['March 27, 1977 ( Los Angeles Film Festival )', 'April 20, 1977 (United States)'], ['November 30, 1977'], ['October 2, 1977'], ['May 25, 1977 (United States)'], ['November 14, 1977'], ['December 8, 1978 ( Los Angeles )', 'February 23, 1979 (United States)'], ['February 15, 1978'], ['June 28, 1978'], ['May 18, 1978 ( Cannes Film Festival )', 'August 10, 1978 (UK)', 'October 6, 1978 (US)'], ['March 5, 1978'], ['December 19, 1979'], ['December 20, 1979'], ['May 19, 1979 ( Cannes )', 'August 15, 1979 (United States)'], ['July 13, 1979'], ['March 2, 1979'], ['September 19, 1980'], ['March 7, 1980'], ['October 3, 1980 (New York City )', 'October 10, 1980 (US)'], ['November 14, 1980 (New York City)', 'December 19, 1980 (United States)'], ['31 October 1979 (France)', '12 December 1980 (US)', '9 April 1981 (UK)'], ['30 March 1981 ( Royal Command Film Performance )', '15 May 1981 (U.K.)'], ['September 3, 1980 (France)', 'December 19, 1980 (Canada)'], ['December 4, 1981 (Original Release)', 'June 27, 2003 (Re-Release)'], ['June 12, 1981'], ['December 4, 1981'], ['30 November 1982 ( New Delhi )', '3 December 1982 (United Kingdom)'], ['May 26, 1982 ( Cannes )', 'June 11, 1982 (United States)'], ['February 12, 1982'], ['December 17, 1982'], ['December 8, 1982'], ['November 23, 1983 (US: limited)', 'December 9, 1983 (US: wide)'], ['September 28, 1983'], ['6 December 1983'], ['October 16, 1983 ( Kennedy Center )', 'October 21, 1983 (United States)'], ['March 4, 1983'], ['September 6, 1984 (Los Angeles)', 'September 19, 1984 (United States)'], ['2 November 1984'], ['14 December 1984'], ['September 21, 1984'], ['September 13, 1984'], ['December 18, 1985'], ['December 18, 1985'], ['May 13, 1985 ( )', 'July 26, 1985 ( )', 'March 13, 1986 ( )'], 'June 14, 1985', ['February 8, 1985 (United States)'], ['December 19, 1986'], ['October 3, 1986'], ['February 7, 1986 (United States)'], ['16 May 1986 ( Cannes )', '31 October 1986 (United States)'], ['13 December 1985 ( RCFP )', '11 April 1986'], ['4 October 1987 ( Tokyo )', '23 October 1987 (Italy)', '26 February 1988 (U.K.)'], ['December 16, 1987'], ['September 16, 1987 ( New York City )', 'September 18, 1987 (United States)'], ['16 October 1987 (New York City)', '13 November 1987 (United Kingdom)', '19 February 1988 (United States)'], ['December 16, 1987 ( New York City )', 'December 18, 1987 (United States)'], ['December 16, 1988'], ['December 23, 1988'], ['December 16, 1988 (United States)'], ['December 2, 1988 (Washington)', 'December 9, 1988 (North America, limited)'], ['December 21, 1988'], ['December 15, 1989'], ['December 20, 1989'], ['June 2, 1989'], ['May 5, 1989'], ['24 February 1989'], ['October 19, 1990 ( Uptown Theater )', 'November 9, 1990 (United States)'], ['December 20, 1990 (limited U.S.)', 'January 11, 1991 (wide U.S.)'], ['July 13, 1990'], ['December 20, 1990 (Beverly Hills)', 'December 25, 1990 (United States)'], ['September 9, 1990 ( Venice )', 'September 19, 1990 (United States)'], ['January 30, 1991 (New York City)', 'February 14, 1991 (United States)'], ['September 29, 1991 ( NYFF )', 'November 22, 1991 (United States)'], ['December 13, 1991', 'December 20, 1991'], ['December 20, 1991'], ['December 25, 1991'], ['August 3, 1992 ( Mann Bruin Theater )', 'August 7, 1992 (United States)'], ['2 September 1992 ( Venice )', '30 October 1992 (U.K.)', '19 June 1993 (Japan)'], ['December 9, 1992 ( Westwood )', 'December 11, 1992 (United States)'], ['13 March 1992 (United States)', '1 May 1992 (United Kingdom)', '26 August 2016 (United States re-release)'], ['December 23, 1992'], ['November 30, 1993 ( Washington, D.C. )', 'December 15, 1993 (United States)'], ['August 6, 1993 (United States)'], ['27 December 1993 (Ireland)', '29 December 1993 (United States)', '11 February 1994 (United Kingdom)'], ['15 May 1993 ( Cannes )', '19 May 1993 (France)', '5 August 1993 (Australia)'], ['5 November 1993'], ['June 23, 1994 ( Los Angeles )', 'July 6, 1994 (United States)'], ['20 January 1994 ( Sundance )', '13 May 1994 (United Kingdom)'], ['May 21, 1994 ( Cannes )', 'October 14, 1994 (United States)'], ['September 14, 1994 (New York City)'], ['September 10, 1994 ( TIFF )', 'September 23, 1994 (United States)'], ['May 18, 1995 ( Seattle )', 'May 24, 1995 (United States)'], ['June 30, 1995 (United States)'], ['August 4, 1995 (United States)'], ['1 September 1994 ( VFF )', '22 September 1994 (Italy)', '16 June 1995 (USA)'], ['December 13, 1995 (United States)', 'February 23, 1996 (United Kingdom)'], ['November 15, 1996'], ['March 8, 1996 (United States)', 'May 31, 1996 (United Kingdom)'], ['December 13, 1996'], ['May 1996 ( Cannes )', '24 May 1996'], ['21 January 1996 ( Sundance Film Festival )', '15 August 1996 (Australia)', '20 November 1996 (United States)'], ['November 1, 1997 ( Tokyo )', 'December 19, 1997 (United States)'], ['December 25, 1997'], ['15 August 1997 (United States)', '29 August 1997 (United Kingdom)'], ['December 2, 1997 ( Bruin Theater )', 'December 5, 1997 (United States)'], ['May 14, 1997 ( Cannes )', 'September 19, 1997 (United States)'], ['11 December 1998'], ['8 September 1998 ( Venice )', '23 October 1998 (United Kingdom)'], ['20 December 1997 (Italy)'], ['July 24, 1998'], ['December 25, 1998 (limited release)', 'January 15, 1999 (wide release)'], [\"September 8, 1999 ( Grauman's Egyptian Theatre )\", 'September 15, 1999 (United States)'], ['September 7, 1999 ( Venice )', 'September 12, 1999 ( TIFF )', 'December 10, 1999 (Limited)', 'January 7, 2000 (Wide)'], ['December 10, 1999 (United States)'], ['November 5, 1999'], ['August 2, 1999 ( Prince Music Theater )', 'August 6, 1999 (United States)'], ['May 1, 2000 ( Los Angeles )', 'May 5, 2000 (United States)', 'May 12, 2000 (United Kingdom)'], ['December 22, 2000 (United States)', 'March 2, 2001 (United Kingdom)'], ['May 18, 2000 ( Cannes )', 'July 7, 2000 (Taiwan)', 'July 8, 2000 (Mainland China)', 'July 13, 2000 (Hong Kong)', 'December 8, 2000 (United States)'], ['March 17, 2000'], ['December 27, 2000 (United States)'], ['December 13, 2001 ( Beverly Hills premiere)', 'December 21, 2001 (United States)'], ['7 November 2001 ( London )', '1 February 2002 (United Kingdom)'], ['November 23, 2001'], ['10 December 2001 ( Odeon Leicester Square )', '19 December 2001 (United States)', '20 December 2001 (New Zealand)'], ['9 May 2001 ( Cannes Film Festival )', '18 May 2001 (United States)', '25 May 2001 (Australia)'], 'December 27, 2002', ['December 20, 2002'], ['December 25, 2002 (United States)', 'February 14, 2003 (United Kingdom)'], ['5 December 2002 ( Ziegfeld Theatre )', '18 December 2002 (United States)', '19 December 2002 (New Zealand)'], ['24 May 2002 ( Cannes )', '6 September 2002 (Poland)', '25 September 2002 (France)'], ['1 December 2003 ( Embassy Theatre )', '17 December 2003 (United States)', '18 December 2003 (New Zealand)'], ['August 29, 2003 ( Telluride Film Festival )', 'September 12, 2003 (United States)', 'April 17, 2004 (Japan)'], ['November 14, 2003'], ['October 15, 2003'], ['July 25, 2003'], ['December 15, 2004 (United States)'], ['December 14, 2004 ( New York City )', 'December 25, 2004 (United States)'], ['September 4, 2004 ( VFF )', 'October 29, 2004 (United Kingdom)', 'November 12, 2004 (United States)'], ['October 29, 2004'], ['September 13, 2004 ( TIFF )', 'October 22, 2004 (United States)'], ['September 10, 2004 ( TIFF )', 'May 6, 2005 (United States)'], ['September 2, 2005 ( Venice )', 'December 9, 2005 (United States)'], ['September 2, 2005 ( Telluride )', 'September 30, 2005 (United States)', 'October 28, 2005 (Canada)'], ['September 1, 2005 ( Venice )', 'October 7, 2005 (United States)', 'January 4, 2006 (France)', 'February 19, 2006 (United Kingdom)', 'April 29, 2006 (Japan)'], ['December 23, 2005 (United States)'], ['September 26, 2006 ( Ziegfeld Theatre )', 'October 6, 2006 (United States)'], ['23 May 2006 ( Cannes )', '27 October 2006 (United States and Mexico)'], ['December 9, 2006 (Japan)', 'December 20, 2006 (United States)'], ['January 20, 2006 ( Sundance Film Festival )', 'July 26, 2006 (United States)'], ['2 September 2006 ( Venice )', '15 September 2006 (United Kingdom)', '18 October 2006 (France)'], ['May 19, 2007 ( Cannes )', 'November 9, 2007 (United States)'], ['29 August 2007 ( Venice )', '7 September 2007 (United Kingdom)', '7 December 2007 (North America)', '9 January 2008 (France)'], ['September 1, 2007 ( Telluride )', 'December 5, 2007 (United States)'], ['August 31, 2007 ( Venice )', 'September 24, 2007 (NYC)'], ['September 27, 2007 ( Fantastic Fest )', 'December 26, 2007 (United States)'], ['August 30, 2008 ( Telluride )', 'December 25, 2008 (United States)', 'January 9, 2009 (United Kingdom)'], ['December 25, 2008'], ['October 15, 2008 ( London )', 'December 5, 2008 (United States)', 'January 23, 2009 (United Kingdom)', 'April 1, 2009 (France)'], ['October 28, 2008 ( San Francisco )', 'November 26, 2008 (United States)'], ['December 12, 2008 (United States)', 'February 26, 2009 (Germany)'], ['September 4, 2008 ( 65th Venice International Film Festival )', 'June 26, 2009 (United States)'], ['December 10, 2009 (London)', 'December 18, 2009 (United States)'], ['November 20, 2009'], ['13 August 2009 (New Zealand)', '14 August 2009 (United States)', '28 August 2009 (South Africa)'], ['18 January 2009 ( Sundance )', '30 October 2009 (United Kingdom)', '5 February 2010 (United States)'], ['May 20, 2009 ( Cannes )', 'August 20, 2009 (Germany)', 'August 21, 2009 (United States)'], ['January 15, 2009 ( Sundance )', 'November 6, 2009 (United States)'], ['October 2, 2009'], ['May 13, 2009 ( Cannes )', 'May 29, 2009 (United States)'], ['September 5, 2009 ( Telluride )', 'December 4, 2009 (United States)'], ['6 September 2010 ( Telluride Film Festival )', '23 December 2010 (Australia)', '7 January 2011 (United Kingdom)'], ['4 September 2010 ( Telluride Film Festival )', '5 November 2010 (United States)', '7 January 2011 (United Kingdom)'], ['September 1, 2010 ( Venice )', 'December 3, 2010 (United States)'], [\"December 6, 2010 ( Grauman's Chinese Theatre )\", 'December 10, 2010 (United States)'], ['July 8, 2010 ( Odeon Leicester Square )', 'July 16, 2010 (United States and United Kingdom)'], ['January 25, 2010 (Sundance Film Festival)', 'July 9, 2010 (United States)'], ['September 24, 2010 ( NYFF )', 'October 1, 2010 (United States)'], ['June 12, 2010 ( Taormina Film Fest )', 'June 18, 2010 (United States)'], ['December 22, 2010'], ['January 21, 2010 ( Sundance )', 'June 11, 2010 (United States)'], ['15 May 2011 ( Cannes )', '12 October 2011 (France)'], ['September 10, 2011 ( TIFF )', 'November 18, 2011 (United States )'], ['December 25, 2011'], ['August 9, 2011 ( Beverly Hills )', 'August 10, 2011 (United States)'], ['October 10, 2011 ( NYFF )', 'November 23, 2011 (United States)'], ['May 11, 2011 ( Cannes )', 'May 13, 2011 (Spain)', 'May 20, 2011 (United States)'], ['September 9, 2011 ( TIFF )', 'September 23, 2011 (United States)'], ['May 16, 2011 ( Cannes )', 'May 27, 2011 (United States)'], ['4 December 2011 ( Avery Fisher Hall )', '25 December 2011 (United States)'], ['August 31, 2012 ( Telluride )', 'October 12, 2012 (United States)'], ['20 May 2012 ( Cannes )', '20 September 2012 (Germany)', '24 October 2012 (France)'], ['January 20, 2012 ( Sundance )', 'June 27, 2012 (US)'], ['December 11, 2012 ( Ziegfeld Theatre )', 'December 25, 2012 (United States)'], ['September 28, 2012 ( NYFF )', 'November 21, 2012 (United States)'], ['October 8, 2012 ( New York Film Festival )', 'November 9, 2012 (United States)'], ['5 December 2012 ( Leicester Square )', '25 December 2012 (United States)', '11 January 2013 (United Kingdom)'], ['September 8, 2012 ( TIFF )', 'November 16, 2012 (United States)'], ['December 10, 2012 ( Los Angeles )', 'December 19, 2012 (United States)'], ['August 30, 2013 ( Telluride Film Festival )', 'November 8, 2013 (United States)', 'January 10, 2014 (United Kingdom)'], ['December 8, 2013 ( Ziegfeld Theatre )', 'December 13, 2013 (United States)'], ['September 27, 2013 ( NYFF )', 'October 11, 2013 (United States)'], ['September 7, 2013 ( TIFF )', 'November 1, 2013 (United States)'], ['August 28, 2013 ( Venice )', 'October 4, 2013 (United States)', 'November 7, 2013 (United Kingdom)'], ['October 12, 2013 ( NYFF )', 'December 18, 2013 (United States)'], ['May 23, 2013 ( Cannes )', 'November 15, 2013 (United States)'], ['31 August 2013 ( Venice )', '1 November 2013 (United Kingdom)'], ['December 17, 2013 ( Ziegfeld Theatre )', 'December 25, 2013 (United States)'], ['August 27, 2014 ( Venice )', 'October 17, 2014 (United States)'], ['November 11, 2014 ( AFI Fest )', 'December 25, 2014 (United States)'], ['January 19, 2014 ( Sundance )', 'July 11, 2014 (United States)'], ['February 6, 2014 ( Berlin )', 'March 6, 2014 (Germany)', 'March 7, 2014 (United States)'], ['August 29, 2014 ( Telluride Film Festival )', 'November 28, 2014 (United States)'], ['November 11, 2014 ( AFI Fest )', 'December 25, 2014 (United States)'], ['7 November 2014 ( TIFF )', '1 January 2015 (United Kingdom)'], ['January 16, 2014 ( Sundance )', 'October 10, 2014 (United States)'], ['September 3, 2015 ( Venice )', 'November 6, 2015 (United States)'], ['November 12, 2015 ( AFI Fest )', 'December 11, 2015 (United States)'], ['October 4, 2015 ( New York Film Festival )', 'October 16, 2015 (United States)', 'November 26, 2015 (Germany)'], ['26 January 2015 ( Sundance )', '6 November 2015 (United Kingdom and Ireland)', '20 November 2015 (Canada)'], ['May 7, 2015 ( TCL Chinese Theatre )', 'May 14, 2015 (Australia)'], ['September 11, 2015 ( TIFF )', 'September 30, 2015 (United Kingdom)', 'October 2, 2015 (United States)'], ['December 16, 2015 ( TCL Chinese Theatre )', 'December 25, 2015 (United States)'], ['September 4, 2015 ( Telluride )', 'October 16, 2015 (United States)', 'October 23, 2015 (Canada)', 'January 15, 2016 (United Kingdom and Ireland)'], ['September 2, 2016 ( Telluride )', 'October 21, 2016 (United States)'], ['September 1, 2016 ( Venice )', 'November 11, 2016 (United States)'], ['December 15, 2016 ( Curran Theatre )', 'December 16, 2016 (United States)'], ['September 4, 2016 ( Venice )', 'November 3, 2016 (Australia)', 'November 4, 2016 (United States)'], ['May 16, 2016 ( Cannes )', 'August 12, 2016 (United States)'], ['December 10, 2016 ( SVA Theatre )', 'December 25, 2016 (United States)'], ['August 31, 2016 ( Venice )', 'December 9, 2016 (United States)'], ['September 10, 2016 ( TIFF )', 'November 25, 2016 (United States)', 'January 19, 2017 (Australia)', 'January 20, 2017 (United Kingdom)'], ['January 23, 2016 ( Sundance )', 'November 18, 2016 (United States)'], ['August 31, 2017 ( Venice )', 'December 1, 2017 (United States)'], ['January 22, 2017 ( Sundance )', 'November 24, 2017 (United States)', 'January 18, 2018 (Brazil)', 'January 25, 2018 (Italy)'], ['1 September 2017 ( Telluride )', '22 November 2017 (United States)', '12 January 2018 (United Kingdom)'], ['13 July 2017 ( Odeon Leicester Square )', '19 July 2017 (France)', '20 July 2017 (Netherlands)', '21 July 2017 (UK & US)'], ['January 23, 2017 ( Sundance )', 'February 24, 2017 (United States)'], ['September 1, 2017 ( Telluride )', 'November 3, 2017 (United States)'], ['December 11, 2017 ( Walter Reade Theater )', 'December 25, 2017 (United States)'], ['December 14, 2017 ( Newseum )', 'December 22, 2017 (United States)'], ['September 4, 2017 ( Venice )', 'November 10, 2017 (United States)', 'January 12, 2018 (United Kingdom)'], ['September 11, 2018 ( TIFF )', 'November 16, 2018 (United States)'], ['January 29, 2018 ( Dolby Theatre )', 'February 16, 2018 (United States)'], ['May 14, 2018 ( Cannes )', 'August 10, 2018 (United States)'], ['23 October 2018 ( Wembley Arena )', '24 October 2018 (United Kingdom)', '2 November 2018 (United States)'], ['30 August 2018 ( Venice )', '23 November 2018 (United States)', '1 January 2019 (United Kingdom and Ireland)'], ['30 August 2018 ( Venice )', '21 November 2018 (Mexico and United States)'], ['August 31, 2018 ( Venice )', 'October 5, 2018 (United States)'], ['December 11, 2018 ( Samuel Goldwyn Theater )', 'December 25, 2018 (United States)'], '', ['August 30, 2019 ( Telluride )', 'November 15, 2019 (United States)'], ['September 27, 2019 ( NYFF )', 'November 1, 2019 (United States)'], ['September 8, 2019 ( TIFF )', 'October 18, 2019 (United States)', 'October 24, 2019 (New Zealand)'], ['August 31, 2019 ( Venice )', 'October 4, 2019 (United States)'], ['December 7, 2019 ( MoMA )', 'December 25, 2019 (United States)'], ['August 29, 2019 ( Venice )', 'November 6, 2019 (United States)', 'November 15, 2019 (United Kingdom)'], ['4 December 2019 (London)', '25 December 2019 (United States)', '10 January 2020 (United Kingdom)'], ['May 21, 2019 ( Cannes )', 'July 26, 2019 (United States)', 'August 14, 2019 (United Kingdom)'], ['September 11, 2020 ( Venice )', 'February 19, 2021 (United States)'], ['27 January 2020 ( Sundance )', '26 May 2021 (France)', '11 June 2021 (United Kingdom)'], ['February 1, 2021 ( Sundance )', 'February 12, 2021 (United States)'], ['November 13, 2020'], ['January 26, 2020 ( Sundance )', 'February 12, 2021 (United States)'], ['January 25, 2020 ( Sundance )', 'December 25, 2020 (United States)'], ['September 6, 2019 ( TIFF )', 'November 20, 2020 (United States)'], ['September 25, 2020']]\n"
     ]
    }
   ],
   "source": [
    "# Convert Dates into datetimes\n",
    "print([movie.get('Release date', 'N/A') for movie in movie_info_list])\n"
   ]
  },
  {
   "cell_type": "code",
   "execution_count": 28,
   "id": "a00a9429",
   "metadata": {},
   "outputs": [],
   "source": [
    "from datetime import datetime\n",
    "\n",
    "dates = [movie.get('Release date', 'N/A') for movie in movie_info_list]\n",
    "\n",
    "def clean_date(date):\n",
    "    return date.split(\"(\")[0].strip()\n",
    "\n",
    "def date_conversion(date):\n",
    "    if isinstance(date, list):\n",
    "        date = date[0]\n",
    "        \n",
    "    if date == \"N/A\":\n",
    "        return None\n",
    "        \n",
    "    date_str = clean_date(date)\n",
    "\n",
    "    fmts = [\"%B %d, %Y\", \"%d %B %Y\",\"%B %Y\"]\n",
    "    for fmt in fmts:\n",
    "        try:\n",
    "            return datetime.strptime(date_str, fmt)\n",
    "        except:\n",
    "            pass\n",
    "    return None\n"
   ]
  },
  {
   "cell_type": "code",
   "execution_count": 29,
   "id": "34e2a2ee",
   "metadata": {},
   "outputs": [],
   "source": [
    "for movie in movie_info_list:\n",
    "    movie['Release date (datetime)'] = date_conversion(movie.get('Release date', 'N/A'))"
   ]
  },
  {
   "cell_type": "code",
   "execution_count": 30,
   "id": "3a1caf5c",
   "metadata": {},
   "outputs": [
    {
     "data": {
      "text/plain": [
       "{'title': 'Broadway Melody of 1936',\n",
       " 'Directed by': 'Roy Del Ruth',\n",
       " 'Written by': ['Harry W. Conn', 'Moss Hart', 'Jack McGowan', 'Sid Silvers'],\n",
       " 'Produced by': 'John W. Considine Jr.',\n",
       " 'Starring': ['Jack Benny',\n",
       "  'Eleanor Powell',\n",
       "  'Robert Taylor',\n",
       "  'Una Merkel',\n",
       "  'Frances Langford',\n",
       "  'Sid Silvers',\n",
       "  'Buddy Ebsen',\n",
       "  'Vilma Ebsen'],\n",
       " 'Cinematography': 'Charles Rosher',\n",
       " 'Edited by': 'Blanche Sewell',\n",
       " 'Music by': 'Nacio Herb Brown',\n",
       " 'Distributed by': 'Metro-Goldwyn-Mayer',\n",
       " 'Release date': ['August 25, 1935 ( New York City )',\n",
       "  'September 18, 1935 ( Los Angeles )'],\n",
       " 'Running time': '101 minutes',\n",
       " 'Country': 'United States',\n",
       " 'Language': 'English',\n",
       " 'Budget': '$1,062,000',\n",
       " 'Box office': '$2,871,000',\n",
       " 'Running time (int)': 101,\n",
       " 'Budget (float)': 1062000.0,\n",
       " 'Box office (float)': 2871000.0,\n",
       " 'Release date (datetime)': datetime.datetime(1935, 8, 25, 0, 0)}"
      ]
     },
     "execution_count": 30,
     "metadata": {},
     "output_type": "execute_result"
    }
   ],
   "source": [
    "movie_info_list[50]"
   ]
  },
  {
   "cell_type": "code",
   "execution_count": 33,
   "id": "01cd5fbe",
   "metadata": {},
   "outputs": [
    {
     "name": "stdout",
     "output_type": "stream",
     "text": [
      "Counter({<class 'datetime.datetime'>: 569, <class 'NoneType'>: 2})\n"
     ]
    }
   ],
   "source": [
    "#checking the number of datetime.datetime objects\n",
    "import collections\n",
    "a=[movie.get('Release date (datetime)', 'N/A') for movie in movie_info_list]\n",
    "map_object = map(type, a)\n",
    "new_list = list(map_object)\n",
    "occurrences = collections.Counter(new_list)\n",
    "print(occurrences)"
   ]
  },
  {
   "cell_type": "code",
   "execution_count": 48,
   "id": "f30138ff",
   "metadata": {},
   "outputs": [],
   "source": [
    "def year_conversion(datetim):\n",
    "    if isinstance(datetim, datetime):\n",
    "        return datetim.year\n",
    "    else:\n",
    "        return None\n",
    "        \n",
    "#print([if movie.get('Release date (datetime)', 'N/A').year for movie in movie_info_list])"
   ]
  },
  {
   "cell_type": "code",
   "execution_count": 49,
   "id": "9028bae3",
   "metadata": {},
   "outputs": [],
   "source": [
    "for movie in movie_info_list:\n",
    "    movie['YEAR'] = year_conversion(movie.get('Release date (datetime)', 'N/A'))"
   ]
  },
  {
   "cell_type": "code",
   "execution_count": 52,
   "id": "931f08ec",
   "metadata": {},
   "outputs": [
    {
     "name": "stdout",
     "output_type": "stream",
     "text": [
      "571\n"
     ]
    }
   ],
   "source": [
    "print(len([movie.get('YEAR', 'N/A') for movie in movie_info_list]))\n",
    "#def save_data(title, data):\n",
    "#    with open(title, 'w', encoding='utf-8') as f:\n",
    "#        json.dump(data, f, ensure_ascii=False, indent=2)\n",
    "#save_data(\"academy_international_movies_cleane.json\", movie_info_list)"
   ]
  },
  {
   "cell_type": "markdown",
   "id": "b8052d44",
   "metadata": {},
   "source": [
    "#### Because Object of type datetime is not JSON serializable I will use a pickle to save the data"
   ]
  },
  {
   "cell_type": "code",
   "execution_count": 53,
   "id": "73e0bb40",
   "metadata": {},
   "outputs": [],
   "source": [
    "import pickle\n",
    "\n",
    "def save_data_pickle(name, data):\n",
    "    with open(name, 'wb') as f:\n",
    "        pickle.dump(data, f)"
   ]
  },
  {
   "cell_type": "code",
   "execution_count": 54,
   "id": "15d047c1",
   "metadata": {},
   "outputs": [],
   "source": [
    "import pickle\n",
    "\n",
    "def load_data_pickle(name):\n",
    "    with open(name, 'rb') as f:\n",
    "        return pickle.load(f)"
   ]
  },
  {
   "cell_type": "code",
   "execution_count": 55,
   "id": "a2b238f6",
   "metadata": {},
   "outputs": [],
   "source": [
    "save_data_pickle(\"academy_movies_clean.pickle\", movie_info_list)"
   ]
  },
  {
   "cell_type": "code",
   "execution_count": 56,
   "id": "69aa8872",
   "metadata": {},
   "outputs": [],
   "source": [
    "a = load_data_pickle(\"academy_movies_clean.pickle\")"
   ]
  },
  {
   "cell_type": "code",
   "execution_count": 57,
   "id": "f445e9f9",
   "metadata": {},
   "outputs": [
    {
     "data": {
      "text/plain": [
       "True"
      ]
     },
     "execution_count": 57,
     "metadata": {},
     "output_type": "execute_result"
    }
   ],
   "source": [
    "a == movie_info_list"
   ]
  },
  {
   "cell_type": "markdown",
   "id": "194711fa",
   "metadata": {},
   "source": [
    "### Attach IMDB/Rotten Tomatoes/Metascore scores "
   ]
  },
  {
   "cell_type": "code",
   "execution_count": 59,
   "id": "9a14caaf",
   "metadata": {},
   "outputs": [],
   "source": [
    "movie_info_list = load_data_pickle('academy_movies_clean.pickle')"
   ]
  },
  {
   "cell_type": "markdown",
   "id": "dcbfbfba",
   "metadata": {},
   "source": [
    "The OMDb API is a RESTful web service to obtain movie information, all content and images on the site are contributed and maintained by our users.\n",
    " "
   ]
  },
  {
   "cell_type": "code",
   "execution_count": null,
   "id": "76ba9248",
   "metadata": {},
   "outputs": [],
   "source": [
    "#http://www.omdbapi.com/?apikey=[yourkey]&"
   ]
  },
  {
   "cell_type": "code",
   "execution_count": 66,
   "id": "962fd3e7",
   "metadata": {},
   "outputs": [
    {
     "data": {
      "text/plain": [
       "{'Title': 'Rebecca',\n",
       " 'Year': '1940',\n",
       " 'Rated': 'Approved',\n",
       " 'Released': '12 Apr 1940',\n",
       " 'Runtime': '130 min',\n",
       " 'Genre': 'Drama, Mystery, Romance',\n",
       " 'Director': 'Alfred Hitchcock',\n",
       " 'Writer': 'Daphne Du Maurier, Robert E. Sherwood, Joan Harrison',\n",
       " 'Actors': 'Laurence Olivier, Joan Fontaine, George Sanders',\n",
       " 'Plot': \"A self-conscious woman juggles adjusting to her new role as an aristocrat's wife and avoiding being intimidated by his first wife's spectral presence.\",\n",
       " 'Language': 'English, French',\n",
       " 'Country': 'United States',\n",
       " 'Awards': 'Won 2 Oscars. 7 wins & 10 nominations total',\n",
       " 'Poster': 'https://m.media-amazon.com/images/M/MV5BYTcxYWExOTMtMWFmYy00ZjgzLWI0YjktNWEzYzJkZTg0NDdmL2ltYWdlXkEyXkFqcGdeQXVyNjc1NTYyMjg@._V1_SX300.jpg',\n",
       " 'Ratings': [{'Source': 'Internet Movie Database', 'Value': '8.1/10'},\n",
       "  {'Source': 'Rotten Tomatoes', 'Value': '100%'},\n",
       "  {'Source': 'Metacritic', 'Value': '86/100'}],\n",
       " 'Metascore': '86',\n",
       " 'imdbRating': '8.1',\n",
       " 'imdbVotes': '131,280',\n",
       " 'imdbID': 'tt0032976',\n",
       " 'Type': 'movie',\n",
       " 'DVD': '14 Oct 2008',\n",
       " 'BoxOffice': 'N/A',\n",
       " 'Production': 'N/A',\n",
       " 'Website': 'N/A',\n",
       " 'Response': 'True'}"
      ]
     },
     "execution_count": 66,
     "metadata": {},
     "output_type": "execute_result"
    }
   ],
   "source": [
    "import requests\n",
    "import urllib\n",
    "import os\n",
    "import time\n",
    "\n",
    "def get_omdb_info(title,YEAR):\n",
    "    base_url = \"http://www.omdbapi.com/?\"\n",
    "    parameters = {\"apikey\": \"56c6630c\", 't': title, 'y': YEAR}\n",
    "    params_encoded = urllib.parse.urlencode(parameters)\n",
    "    full_url = base_url + params_encoded\n",
    "    return requests.get(full_url).json()\n",
    "\n",
    "def get_rotten_tomato_score(omdb_info):\n",
    "    ratings = omdb_info.get('Ratings', [])\n",
    "    for rating in ratings:\n",
    "        if rating['Source'] == 'Rotten Tomatoes':\n",
    "            return rating['Value']\n",
    "    return None\n",
    "\n",
    "get_omdb_info(\"Rebecca\", 1940)"
   ]
  },
  {
   "cell_type": "code",
   "execution_count": 67,
   "id": "b88b00cf",
   "metadata": {},
   "outputs": [],
   "source": [
    "for movie in movie_info_list:\n",
    "    title = movie['title']\n",
    "    YEAR = movie['YEAR']\n",
    "    time.sleep(2)\n",
    "    omdb_info = get_omdb_info(title,YEAR)    \n",
    "    movie['imdb'] = omdb_info.get('imdbRating', None)\n",
    "    movie['metascore'] = omdb_info.get('Metascore', None)\n",
    "    movie['rotten_tomatoes'] = get_rotten_tomato_score(omdb_info)\n",
    "    movie['plot'] =  omdb_info.get('Plot', None)\n",
    "    movie['genre'] =  omdb_info.get('Genre', None)\n",
    "    movie['awards'] =  omdb_info.get('Awards', None)"
   ]
  },
  {
   "cell_type": "code",
   "execution_count": 71,
   "id": "b01d4baf",
   "metadata": {},
   "outputs": [
    {
     "data": {
      "text/plain": [
       "{'title': 'Sound of Metal',\n",
       " 'Directed by': 'Darius Marder',\n",
       " 'Screenplay by': ['Darius Marder', 'Abraham Marder'],\n",
       " 'Story by': ['Darius Marder', 'Derek Cianfrance'],\n",
       " 'Produced by': ['Bill Benz',\n",
       "  'Kathy Benz',\n",
       "  'Bert Hamelinck',\n",
       "  'Sacha Ben Harroche'],\n",
       " 'Starring': ['Riz Ahmed', 'Olivia Cooke', 'Paul Raci'],\n",
       " 'Cinematography': 'Daniël Bouquet',\n",
       " 'Edited by': 'Mikkel E. G. Nielsen',\n",
       " 'Music by': ['Abraham Marder', 'Nicolas Becker'],\n",
       " 'Production companies': ['Caviar', 'Ward Four', 'Flat 7 Productions'],\n",
       " 'Distributed by': 'Amazon Studios',\n",
       " 'Release date': ['September 6, 2019 ( TIFF )',\n",
       "  'November 20, 2020 (United States)'],\n",
       " 'Running time': '120 minutes',\n",
       " 'Country': 'United States',\n",
       " 'Languages': ['American Sign Language', 'English'],\n",
       " 'Budget': '$5.4 million',\n",
       " 'Box office': '$514,343',\n",
       " 'Running time (int)': 120,\n",
       " 'Budget (float)': 5400000.0,\n",
       " 'Box office (float)': 514343.0,\n",
       " 'Release date (datetime)': datetime.datetime(2019, 9, 6, 0, 0),\n",
       " 'YEAR': 2019,\n",
       " 'imdb': '7.8',\n",
       " 'metascore': '82',\n",
       " 'rotten_tomatoes': '97%',\n",
       " 'plot': \"A heavy-metal drummer's life is thrown into freefall when he begins to lose his hearing.\",\n",
       " 'genre': 'Drama, Music',\n",
       " 'awards': 'Won 2 Oscars. 82 wins & 163 nominations total'}"
      ]
     },
     "execution_count": 71,
     "metadata": {},
     "output_type": "execute_result"
    }
   ],
   "source": [
    "movie_info_list[569]"
   ]
  },
  {
   "cell_type": "code",
   "execution_count": 72,
   "id": "200ec8a1",
   "metadata": {},
   "outputs": [],
   "source": [
    "save_data_pickle('academy_movies_final.pickle', movie_info_list)"
   ]
  },
  {
   "cell_type": "code",
   "execution_count": null,
   "id": "27cd844c",
   "metadata": {},
   "outputs": [],
   "source": []
  },
  {
   "cell_type": "code",
   "execution_count": null,
   "id": "074fd876",
   "metadata": {},
   "outputs": [],
   "source": []
  },
  {
   "cell_type": "markdown",
   "id": "0aa89556",
   "metadata": {},
   "source": [
    "### Save data as JSON and CSV"
   ]
  },
  {
   "cell_type": "code",
   "execution_count": 73,
   "id": "3ae750f9",
   "metadata": {},
   "outputs": [],
   "source": [
    "movie_info_copy = [movie.copy() for movie in movie_info_list]"
   ]
  },
  {
   "cell_type": "code",
   "execution_count": 74,
   "id": "c0e8da38",
   "metadata": {},
   "outputs": [],
   "source": [
    "for movie in movie_info_copy:\n",
    "    current_date = movie['Release date (datetime)']\n",
    "    if current_date:\n",
    "        movie['Release date (datetime)'] = current_date.strftime(\"%B %d, %Y\")\n",
    "    else:\n",
    "        movie['Release date (datetime)'] = None"
   ]
  },
  {
   "cell_type": "code",
   "execution_count": 76,
   "id": "03ba7351",
   "metadata": {},
   "outputs": [],
   "source": [
    "import json\n",
    "\n",
    "def save_data(title, data):\n",
    "    with open(title, 'w', encoding='utf-8') as f:\n",
    "        json.dump(data, f, ensure_ascii=False, indent=2)"
   ]
  },
  {
   "cell_type": "code",
   "execution_count": 77,
   "id": "bfc9b565",
   "metadata": {},
   "outputs": [],
   "source": [
    "save_data(\"academy_movies_final.json\", movie_info_copy)"
   ]
  },
  {
   "cell_type": "markdown",
   "id": "5cf082f8",
   "metadata": {},
   "source": [
    "Save data as CSV"
   ]
  },
  {
   "cell_type": "code",
   "execution_count": 78,
   "id": "77291544",
   "metadata": {},
   "outputs": [],
   "source": [
    "import pandas as pd\n",
    "\n",
    "df = pd.DataFrame(movie_info_list)"
   ]
  },
  {
   "cell_type": "code",
   "execution_count": 79,
   "id": "ec746788",
   "metadata": {},
   "outputs": [
    {
     "data": {
      "text/html": [
       "<div>\n",
       "<style scoped>\n",
       "    .dataframe tbody tr th:only-of-type {\n",
       "        vertical-align: middle;\n",
       "    }\n",
       "\n",
       "    .dataframe tbody tr th {\n",
       "        vertical-align: top;\n",
       "    }\n",
       "\n",
       "    .dataframe thead th {\n",
       "        text-align: right;\n",
       "    }\n",
       "</style>\n",
       "<table border=\"1\" class=\"dataframe\">\n",
       "  <thead>\n",
       "    <tr style=\"text-align: right;\">\n",
       "      <th></th>\n",
       "      <th>title</th>\n",
       "      <th>Directed by</th>\n",
       "      <th>Written by</th>\n",
       "      <th>Screenplay by</th>\n",
       "      <th>Story by</th>\n",
       "      <th>Produced by</th>\n",
       "      <th>Starring</th>\n",
       "      <th>Cinematography</th>\n",
       "      <th>Edited by</th>\n",
       "      <th>Music by</th>\n",
       "      <th>...</th>\n",
       "      <th>Countries</th>\n",
       "      <th>Narrated by</th>\n",
       "      <th>Suggested by</th>\n",
       "      <th>Narration by</th>\n",
       "      <th>Traditional</th>\n",
       "      <th>Simplified</th>\n",
       "      <th>Mandarin</th>\n",
       "      <th>Hangul</th>\n",
       "      <th>Revised Romanization</th>\n",
       "      <th>McCune–Reischauer</th>\n",
       "    </tr>\n",
       "  </thead>\n",
       "  <tbody>\n",
       "    <tr>\n",
       "      <th>566</th>\n",
       "      <td>Mank</td>\n",
       "      <td>David Fincher</td>\n",
       "      <td>NaN</td>\n",
       "      <td>Jack Fincher</td>\n",
       "      <td>NaN</td>\n",
       "      <td>[Ceán Chaffin, Eric Roth, Douglas Urbanski]</td>\n",
       "      <td>[Gary Oldman, Amanda Seyfried, Lily Collins, A...</td>\n",
       "      <td>Erik Messerschmidt</td>\n",
       "      <td>Kirk Baxter</td>\n",
       "      <td>[Trent Reznor, Atticus Ross]</td>\n",
       "      <td>...</td>\n",
       "      <td>NaN</td>\n",
       "      <td>NaN</td>\n",
       "      <td>NaN</td>\n",
       "      <td>NaN</td>\n",
       "      <td>NaN</td>\n",
       "      <td>NaN</td>\n",
       "      <td>NaN</td>\n",
       "      <td>NaN</td>\n",
       "      <td>NaN</td>\n",
       "      <td>NaN</td>\n",
       "    </tr>\n",
       "    <tr>\n",
       "      <th>567</th>\n",
       "      <td>Minari</td>\n",
       "      <td>Lee Isaac Chung</td>\n",
       "      <td>Lee Isaac Chung</td>\n",
       "      <td>NaN</td>\n",
       "      <td>NaN</td>\n",
       "      <td>[Dede Gardner, Jeremy Kleiner, Christina Oh]</td>\n",
       "      <td>[Steven Yeun, Han Ye-ri, Alan Kim, Noel Kate C...</td>\n",
       "      <td>Lachlan Milne</td>\n",
       "      <td>Harry Yoon</td>\n",
       "      <td>Emile Mosseri</td>\n",
       "      <td>...</td>\n",
       "      <td>NaN</td>\n",
       "      <td>NaN</td>\n",
       "      <td>NaN</td>\n",
       "      <td>NaN</td>\n",
       "      <td>NaN</td>\n",
       "      <td>NaN</td>\n",
       "      <td>NaN</td>\n",
       "      <td>NaN</td>\n",
       "      <td>NaN</td>\n",
       "      <td>NaN</td>\n",
       "    </tr>\n",
       "    <tr>\n",
       "      <th>568</th>\n",
       "      <td>Promising Young Woman</td>\n",
       "      <td>Emerald Fennell</td>\n",
       "      <td>Emerald Fennell</td>\n",
       "      <td>NaN</td>\n",
       "      <td>NaN</td>\n",
       "      <td>[Margot Robbie, Josey McNamara, Tom Ackerley, ...</td>\n",
       "      <td>[Carey Mulligan, Bo Burnham, Alison Brie, Clan...</td>\n",
       "      <td>Benjamin Kračun</td>\n",
       "      <td>Frédéric Thoraval</td>\n",
       "      <td>Anthony Willis</td>\n",
       "      <td>...</td>\n",
       "      <td>[United Kingdom, United States]</td>\n",
       "      <td>NaN</td>\n",
       "      <td>NaN</td>\n",
       "      <td>NaN</td>\n",
       "      <td>NaN</td>\n",
       "      <td>NaN</td>\n",
       "      <td>NaN</td>\n",
       "      <td>NaN</td>\n",
       "      <td>NaN</td>\n",
       "      <td>NaN</td>\n",
       "    </tr>\n",
       "    <tr>\n",
       "      <th>569</th>\n",
       "      <td>Sound of Metal</td>\n",
       "      <td>Darius Marder</td>\n",
       "      <td>NaN</td>\n",
       "      <td>[Darius Marder, Abraham Marder]</td>\n",
       "      <td>[Darius Marder, Derek Cianfrance]</td>\n",
       "      <td>[Bill Benz, Kathy Benz, Bert Hamelinck, Sacha ...</td>\n",
       "      <td>[Riz Ahmed, Olivia Cooke, Paul Raci]</td>\n",
       "      <td>Daniël Bouquet</td>\n",
       "      <td>Mikkel E. G. Nielsen</td>\n",
       "      <td>[Abraham Marder, Nicolas Becker]</td>\n",
       "      <td>...</td>\n",
       "      <td>NaN</td>\n",
       "      <td>NaN</td>\n",
       "      <td>NaN</td>\n",
       "      <td>NaN</td>\n",
       "      <td>NaN</td>\n",
       "      <td>NaN</td>\n",
       "      <td>NaN</td>\n",
       "      <td>NaN</td>\n",
       "      <td>NaN</td>\n",
       "      <td>NaN</td>\n",
       "    </tr>\n",
       "    <tr>\n",
       "      <th>570</th>\n",
       "      <td>The Trial of the Chicago 7</td>\n",
       "      <td>Aaron Sorkin</td>\n",
       "      <td>Aaron Sorkin</td>\n",
       "      <td>NaN</td>\n",
       "      <td>NaN</td>\n",
       "      <td>[Stuart M. Besser, Matt Jackson, Marc Platt, T...</td>\n",
       "      <td>[Yahya Abdul-Mateen II, Sacha Baron Cohen, Dan...</td>\n",
       "      <td>Phedon Papamichael</td>\n",
       "      <td>Alan Baumgarten</td>\n",
       "      <td>Daniel Pemberton</td>\n",
       "      <td>...</td>\n",
       "      <td>NaN</td>\n",
       "      <td>NaN</td>\n",
       "      <td>NaN</td>\n",
       "      <td>NaN</td>\n",
       "      <td>NaN</td>\n",
       "      <td>NaN</td>\n",
       "      <td>NaN</td>\n",
       "      <td>NaN</td>\n",
       "      <td>NaN</td>\n",
       "      <td>NaN</td>\n",
       "    </tr>\n",
       "  </tbody>\n",
       "</table>\n",
       "<p>5 rows × 43 columns</p>\n",
       "</div>"
      ],
      "text/plain": [
       "                          title      Directed by       Written by  \\\n",
       "566                        Mank    David Fincher              NaN   \n",
       "567                      Minari  Lee Isaac Chung  Lee Isaac Chung   \n",
       "568       Promising Young Woman  Emerald Fennell  Emerald Fennell   \n",
       "569              Sound of Metal    Darius Marder              NaN   \n",
       "570  The Trial of the Chicago 7     Aaron Sorkin     Aaron Sorkin   \n",
       "\n",
       "                       Screenplay by                           Story by  \\\n",
       "566                     Jack Fincher                                NaN   \n",
       "567                              NaN                                NaN   \n",
       "568                              NaN                                NaN   \n",
       "569  [Darius Marder, Abraham Marder]  [Darius Marder, Derek Cianfrance]   \n",
       "570                              NaN                                NaN   \n",
       "\n",
       "                                           Produced by  \\\n",
       "566        [Ceán Chaffin, Eric Roth, Douglas Urbanski]   \n",
       "567       [Dede Gardner, Jeremy Kleiner, Christina Oh]   \n",
       "568  [Margot Robbie, Josey McNamara, Tom Ackerley, ...   \n",
       "569  [Bill Benz, Kathy Benz, Bert Hamelinck, Sacha ...   \n",
       "570  [Stuart M. Besser, Matt Jackson, Marc Platt, T...   \n",
       "\n",
       "                                              Starring      Cinematography  \\\n",
       "566  [Gary Oldman, Amanda Seyfried, Lily Collins, A...  Erik Messerschmidt   \n",
       "567  [Steven Yeun, Han Ye-ri, Alan Kim, Noel Kate C...       Lachlan Milne   \n",
       "568  [Carey Mulligan, Bo Burnham, Alison Brie, Clan...     Benjamin Kračun   \n",
       "569               [Riz Ahmed, Olivia Cooke, Paul Raci]      Daniël Bouquet   \n",
       "570  [Yahya Abdul-Mateen II, Sacha Baron Cohen, Dan...  Phedon Papamichael   \n",
       "\n",
       "                Edited by                          Music by  ...  \\\n",
       "566           Kirk Baxter      [Trent Reznor, Atticus Ross]  ...   \n",
       "567            Harry Yoon                     Emile Mosseri  ...   \n",
       "568     Frédéric Thoraval                    Anthony Willis  ...   \n",
       "569  Mikkel E. G. Nielsen  [Abraham Marder, Nicolas Becker]  ...   \n",
       "570       Alan Baumgarten                  Daniel Pemberton  ...   \n",
       "\n",
       "                           Countries Narrated by Suggested by Narration by  \\\n",
       "566                              NaN         NaN          NaN          NaN   \n",
       "567                              NaN         NaN          NaN          NaN   \n",
       "568  [United Kingdom, United States]         NaN          NaN          NaN   \n",
       "569                              NaN         NaN          NaN          NaN   \n",
       "570                              NaN         NaN          NaN          NaN   \n",
       "\n",
       "    Traditional Simplified Mandarin Hangul Revised Romanization  \\\n",
       "566         NaN        NaN      NaN    NaN                  NaN   \n",
       "567         NaN        NaN      NaN    NaN                  NaN   \n",
       "568         NaN        NaN      NaN    NaN                  NaN   \n",
       "569         NaN        NaN      NaN    NaN                  NaN   \n",
       "570         NaN        NaN      NaN    NaN                  NaN   \n",
       "\n",
       "     McCune–Reischauer  \n",
       "566                NaN  \n",
       "567                NaN  \n",
       "568                NaN  \n",
       "569                NaN  \n",
       "570                NaN  \n",
       "\n",
       "[5 rows x 43 columns]"
      ]
     },
     "execution_count": 79,
     "metadata": {},
     "output_type": "execute_result"
    }
   ],
   "source": [
    "df.tail()"
   ]
  },
  {
   "cell_type": "code",
   "execution_count": 80,
   "id": "4bc91927",
   "metadata": {},
   "outputs": [],
   "source": [
    "df.to_csv(\"academy_movies_final.csv\")"
   ]
  },
  {
   "cell_type": "code",
   "execution_count": null,
   "id": "d124b812",
   "metadata": {},
   "outputs": [],
   "source": []
  },
  {
   "cell_type": "code",
   "execution_count": null,
   "id": "750b9ca0",
   "metadata": {},
   "outputs": [],
   "source": []
  }
 ],
 "metadata": {
  "kernelspec": {
   "display_name": "Python 3",
   "language": "python",
   "name": "python3"
  },
  "language_info": {
   "codemirror_mode": {
    "name": "ipython",
    "version": 3
   },
   "file_extension": ".py",
   "mimetype": "text/x-python",
   "name": "python",
   "nbconvert_exporter": "python",
   "pygments_lexer": "ipython3",
   "version": "3.8.8"
  }
 },
 "nbformat": 4,
 "nbformat_minor": 5
}
